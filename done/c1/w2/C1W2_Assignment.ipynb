{
  "cells": [
    {
      "cell_type": "markdown",
      "metadata": {
        "id": "_2s0EJ5Fy4u2"
      },
      "source": [
        "# Week 2: Implementing Callbacks in TensorFlow using the MNIST Dataset\n",
        "\n",
        "In the course you learned how to do classification using Fashion MNIST, a data set containing items of clothing. There's another, similar dataset called MNIST which has items of handwriting -- the digits 0 through 9.\n",
        "\n",
        "Write an MNIST classifier that trains to 99% accuracy and stops once this threshold is achieved. In the lecture you saw how this was done for the loss but here you will be using accuracy instead.\n",
        "\n",
        "Some notes:\n",
        "1. Your network should succeed in less than 9 epochs.\n",
        "2. When it reaches 99% or greater it should print out the string \"Reached 99% accuracy so cancelling training!\" and stop training.\n",
        "3. If you add any additional variables, make sure you use the same names as the ones used in the class. This is important for the function signatures (the parameters and names) of the callbacks."
      ]
    },
    {
      "cell_type": "code",
      "execution_count": 1,
      "metadata": {
        "tags": [
          "graded"
        ],
        "id": "HE105DiP0QBb"
      },
      "outputs": [],
      "source": [
        "import os\n",
        "import tensorflow as tf\n",
        "from tensorflow import keras"
      ]
    },
    {
      "cell_type": "markdown",
      "metadata": {
        "id": "XBZe4-mq0QBc"
      },
      "source": [
        "## Load and inspect the data\n",
        "\n",
        "Begin by loading the data. A couple of things to notice:\n",
        "\n",
        "- The file `mnist.npz` is already included in the current workspace under the `data` directory. By default the `load_data` from Keras accepts a path relative to `~/.keras/datasets` but in this case it is stored somewhere else, as a result of this, you need to specify the full path.\n",
        "\n",
        "- `load_data` returns the train and test sets in the form of the tuples `(x_train, y_train), (x_test, y_test)` but in this exercise you will be needing only the train set so you can ignore the second tuple."
      ]
    },
    {
      "cell_type": "code",
      "execution_count": 8,
      "metadata": {
        "tags": [
          "graded"
        ],
        "colab": {
          "base_uri": "https://localhost:8080/"
        },
        "id": "kRiCMuI70QBc",
        "outputId": "fc6b7a17-fabf-4d12-dfaa-ee9f0ff64be0"
      },
      "outputs": [
        {
          "output_type": "stream",
          "name": "stdout",
          "text": [
            "['.config', 'sample_data']\n",
            "/content/sample_data/mnist.npz\n",
            "Downloading data from https://storage.googleapis.com/tensorflow/tf-keras-datasets/mnist.npz\n",
            "11490434/11490434 [==============================] - 0s 0us/step\n"
          ]
        }
      ],
      "source": [
        "# Load the data\n",
        "\n",
        "# Get current working directory\n",
        "current_dir = os.getcwd()\n",
        "print(os.listdir())\n",
        "\n",
        "# Append data/mnist.npz to the previous path to get the full path\n",
        "data_path = os.path.join(current_dir, \"sample_data/mnist.npz\")\n",
        "print(data_path)\n",
        "\n",
        "# Discard test set\n",
        "(x_train, y_train), (x_t, y_t) = tf.keras.datasets.mnist.load_data(path=data_path)\n",
        "\n",
        "# Normalize pixel values\n",
        "x_train = x_train / 255.0"
      ]
    },
    {
      "cell_type": "markdown",
      "metadata": {
        "id": "HXHlLjXu0QBc"
      },
      "source": [
        "Now take a look at the shape of the training data:"
      ]
    },
    {
      "cell_type": "code",
      "execution_count": 9,
      "metadata": {
        "tags": [
          "graded"
        ],
        "colab": {
          "base_uri": "https://localhost:8080/"
        },
        "id": "8HRfXhvk0QBd",
        "outputId": "df13d365-a82c-44e2-f68d-9fe9bfd96c92"
      },
      "outputs": [
        {
          "output_type": "stream",
          "name": "stdout",
          "text": [
            "There are 60000 examples with shape (28, 28)\n"
          ]
        }
      ],
      "source": [
        "data_shape = x_train.shape\n",
        "\n",
        "print(f\"There are {data_shape[0]} examples with shape ({data_shape[1]}, {data_shape[2]})\")"
      ]
    },
    {
      "cell_type": "markdown",
      "metadata": {
        "id": "oZ7C6Fg-0QBd"
      },
      "source": [
        "## Defining your callback\n",
        "\n",
        "Now it is time to create your own custom callback. For this complete the `myCallback` class and the `on_epoch_end` method in the cell below. If you need some guidance on how to proceed, check out this [link](https://www.tensorflow.org/guide/keras/custom_callback)."
      ]
    },
    {
      "cell_type": "code",
      "execution_count": 19,
      "metadata": {
        "tags": [
          "graded"
        ],
        "colab": {
          "base_uri": "https://localhost:8080/"
        },
        "id": "OEVbbdrs0QBd",
        "outputId": "64089f7d-86dd-4bb4-fe03-6e738fc40cfa"
      },
      "outputs": [
        {
          "output_type": "stream",
          "name": "stderr",
          "text": [
            "<>:8: SyntaxWarning: \"is not\" with a literal. Did you mean \"!=\"?\n",
            "<>:8: SyntaxWarning: \"is not\" with a literal. Did you mean \"!=\"?\n",
            "<ipython-input-19-e3141b375fdc>:8: SyntaxWarning: \"is not\" with a literal. Did you mean \"!=\"?\n",
            "  if logs.get('accuracy') is not 10 and logs.get('accuracy') > 0.99:\n"
          ]
        }
      ],
      "source": [
        "# GRADED CLASS: myCallback\n",
        "### START CODE HERE\n",
        "\n",
        "# Remember to inherit from the correct class\n",
        "class myCallback(tf.keras.callbacks.Callback):\n",
        "        # Define the correct function signature for on_epoch_end\n",
        "        def on_epoch_end(self, epoch, logs={}):\n",
        "            if logs.get('accuracy') is not 10 and logs.get('accuracy') > 0.99:\n",
        "                print(\"\\nReached 99% accuracy so cancelling training!\")\n",
        "\n",
        "                # Stop training once the above condition is met\n",
        "                self.model.stop_training = True\n",
        "\n",
        "### END CODE HERE\n"
      ]
    },
    {
      "cell_type": "markdown",
      "metadata": {
        "id": "gSG9DRpv0QBe"
      },
      "source": [
        "## Create and train your model\n",
        "\n",
        "Now that you have defined your callback it is time to complete the `train_mnist` function below.\n",
        "\n",
        "**You must set your model to train for 10 epochs and the callback should fire before the 9th epoch for you to pass this assignment.**\n",
        "\n",
        "**Hint:**\n",
        "- Feel free to try the architecture for the neural network that you see fit but in case you need extra help you can check out an architecture that works pretty well at the end of this notebook."
      ]
    },
    {
      "cell_type": "code",
      "execution_count": 20,
      "metadata": {
        "id": "rEHcB3kqyHZ6",
        "tags": [
          "graded"
        ]
      },
      "outputs": [],
      "source": [
        "# GRADED FUNCTION: train_mnist\n",
        "def train_mnist(x_train, y_train):\n",
        "\n",
        "    ### START CODE HERE\n",
        "\n",
        "    # Instantiate the callback class\n",
        "    callbacks = myCallback()\n",
        "\n",
        "    # Define the model\n",
        "    model = tf.keras.models.Sequential([\n",
        "        tf.keras.layers.Flatten(input_shape=(28, 28)),\n",
        "        tf.keras.layers.Dense(512, activation=tf.nn.relu),\n",
        "       tf.keras.layers.Dense(10, activation=tf.nn.softmax)\n",
        "    ])\n",
        "\n",
        "    # Compile the model\n",
        "    model.compile(optimizer='adam',\n",
        "                  loss='sparse_categorical_crossentropy',\n",
        "                  metrics=['accuracy'])\n",
        "\n",
        "    # Fit the model for 10 epochs adding the callbacks\n",
        "    # and save the training history\n",
        "    history = model.fit(x_train, y_train, epochs=10, callbacks=[callbacks])\n",
        "\n",
        "    ### END CODE HERE\n",
        "\n",
        "    return history"
      ]
    },
    {
      "cell_type": "markdown",
      "metadata": {
        "id": "Yw8P39bl0QBe"
      },
      "source": [
        "Call the `train_mnist` passing in the appropiate parameters to get the training history:"
      ]
    },
    {
      "cell_type": "code",
      "execution_count": null,
      "metadata": {
        "id": "sFgpwbGly4u4",
        "tags": [
          "graded"
        ],
        "colab": {
          "base_uri": "https://localhost:8080/"
        },
        "outputId": "6b70e11d-7940-4812-f7c6-a6ce06e2e23c"
      },
      "outputs": [
        {
          "output_type": "stream",
          "name": "stdout",
          "text": [
            "Epoch 1/10\n",
            "1875/1875 [==============================] - 13s 7ms/step - loss: 0.1984 - accuracy: 0.9420\n",
            "Epoch 2/10\n",
            "1360/1875 [====================>.........] - ETA: 3s - loss: 0.0817 - accuracy: 0.9753"
          ]
        }
      ],
      "source": [
        "hist = train_mnist(x_train, y_train)"
      ]
    },
    {
      "cell_type": "markdown",
      "metadata": {
        "id": "LYrEK6QZ0QBf"
      },
      "source": [
        "If you see the message `Reached 99% accuracy so cancelling training!` printed out after less than 9 epochs it means your callback worked as expected."
      ]
    },
    {
      "cell_type": "markdown",
      "metadata": {
        "id": "n0uaWdz10QBf"
      },
      "source": [
        "## Need more help?\n",
        "\n",
        "Run the following cell to see an architecture that works well for the problem at hand:"
      ]
    },
    {
      "cell_type": "code",
      "execution_count": 13,
      "metadata": {
        "colab": {
          "base_uri": "https://localhost:8080/"
        },
        "id": "6Wirg8Ao0QBf",
        "outputId": "946503ca-d4cc-45ca-dc5b-6db24be47e88"
      },
      "outputs": [
        {
          "output_type": "stream",
          "name": "stdout",
          "text": [
            "\n",
            "   - A Flatten layer that receives inputs with the same shape as the images\n",
            "   - A Dense layer with 512 units and ReLU activation function\n",
            "   - A Dense layer with 10 units and softmax activation function\n",
            "\n"
          ]
        }
      ],
      "source": [
        "# WE STRONGLY RECOMMEND YOU TO TRY YOUR OWN ARCHITECTURES FIRST\n",
        "# AND ONLY RUN THIS CELL IF YOU WISH TO SEE AN ANSWER\n",
        "\n",
        "import base64\n",
        "\n",
        "encoded_answer = \"CiAgIC0gQSBGbGF0dGVuIGxheWVyIHRoYXQgcmVjZWl2ZXMgaW5wdXRzIHdpdGggdGhlIHNhbWUgc2hhcGUgYXMgdGhlIGltYWdlcwogICAtIEEgRGVuc2UgbGF5ZXIgd2l0aCA1MTIgdW5pdHMgYW5kIFJlTFUgYWN0aXZhdGlvbiBmdW5jdGlvbgogICAtIEEgRGVuc2UgbGF5ZXIgd2l0aCAxMCB1bml0cyBhbmQgc29mdG1heCBhY3RpdmF0aW9uIGZ1bmN0aW9uCg==\"\n",
        "encoded_answer = encoded_answer.encode('ascii')\n",
        "answer = base64.b64decode(encoded_answer)\n",
        "answer = answer.decode('ascii')\n",
        "\n",
        "print(answer)"
      ]
    },
    {
      "cell_type": "markdown",
      "metadata": {
        "id": "MT5SRxaU0QBf"
      },
      "source": [
        "**Congratulations on finishing this week's assignment!**\n",
        "\n",
        "You have successfully implemented a callback that gives you more control over the training loop for your model. Nice job!\n",
        "\n",
        "**Keep it up!**"
      ]
    }
  ],
  "metadata": {
    "jupytext": {
      "main_language": "python"
    },
    "kernelspec": {
      "display_name": "Python 3",
      "language": "python",
      "name": "python3"
    },
    "language_info": {
      "codemirror_mode": {
        "name": "ipython",
        "version": 3
      },
      "file_extension": ".py",
      "mimetype": "text/x-python",
      "name": "python",
      "nbconvert_exporter": "python",
      "pygments_lexer": "ipython3",
      "version": "3.8.8"
    },
    "colab": {
      "provenance": [],
      "toc_visible": true
    }
  },
  "nbformat": 4,
  "nbformat_minor": 0
}