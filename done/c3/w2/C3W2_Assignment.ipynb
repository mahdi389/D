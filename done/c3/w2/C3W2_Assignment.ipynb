{
  "cells": [
    {
      "cell_type": "markdown",
      "id": "stopped-scale",
      "metadata": {
        "id": "stopped-scale"
      },
      "source": [
        "# Week 2: Diving deeper into the BBC News archive\n",
        "\n",
        "Welcome! In this assignment you will be revisiting the [BBC News Classification Dataset](https://www.kaggle.com/c/learn-ai-bbc/overview), which contains 2225 examples of news articles with their respective labels.\n",
        "\n",
        "This time you will not only work with the tokenization process but you will also create a classifier using specialized layers for text data such as Embedding and GlobalAveragePooling1D.\n",
        "\n",
        "Let's get started!"
      ]
    },
    {
      "cell_type": "code",
      "execution_count": 8,
      "id": "magnetic-rebate",
      "metadata": {
        "id": "magnetic-rebate",
        "tags": [
          "graded"
        ]
      },
      "outputs": [],
      "source": [
        "import io\n",
        "import csv\n",
        "import tensorflow as tf\n",
        "import numpy as np\n",
        "from tensorflow.keras.preprocessing.text import Tokenizer\n",
        "from tensorflow.keras.preprocessing.sequence import pad_sequences\n",
        "import matplotlib.pyplot as plt"
      ]
    },
    {
      "cell_type": "markdown",
      "id": "lightweight-cambridge",
      "metadata": {
        "id": "lightweight-cambridge"
      },
      "source": [
        "You probably remember structure of the csv that contains the data from last week, but in case you need a reminder run the next cell:"
      ]
    },
    {
      "cell_type": "code",
      "execution_count": 10,
      "id": "floppy-stuff",
      "metadata": {
        "colab": {
          "base_uri": "https://localhost:8080/"
        },
        "id": "floppy-stuff",
        "outputId": "5dc8aa1c-15ab-4a1e-c10f-ed1cff5138fc",
        "tags": [
          "graded"
        ]
      },
      "outputs": [
        {
          "name": "stdout",
          "output_type": "stream",
          "text": [
            "First line (header) looks like this:\n",
            "\n",
            "ArticleId,Text,Category\n",
            "\n",
            "Each data point looks like this:\n",
            "\n",
            "1833,worldcom ex-boss launches defence lawyers defending former worldcom chief bernie ebbers against a battery of fraud charges have called a company whistleblower as their first witness.  cynthia cooper  worldcom s ex-head of internal accounting  alerted directors to irregular accounting practices at the us telecoms giant in 2002. her warnings led to the collapse of the firm following the discovery of an $11bn (£5.7bn) accounting fraud. mr ebbers has pleaded not guilty to charges of fraud and conspiracy.  prosecution lawyers have argued that mr ebbers orchestrated a series of accounting tricks at worldcom  ordering employees to hide expenses and inflate revenues to meet wall street earnings estimates. but ms cooper  who now runs her own consulting business  told a jury in new york on wednesday that external auditors arthur andersen had approved worldcom s accounting in early 2001 and 2002. she said andersen had given a  green light  to the procedures and practices used by worldcom. mr ebber s lawyers have said he was unaware of the fraud  arguing that auditors did not alert him to any problems.  ms cooper also said that during shareholder meetings mr ebbers often passed over technical questions to the company s finance chief  giving only  brief  answers himself. the prosecution s star witness  former worldcom financial chief scott sullivan  has said that mr ebbers ordered accounting adjustments at the firm  telling him to  hit our books . however  ms cooper said mr sullivan had not mentioned  anything uncomfortable  about worldcom s accounting during a 2001 audit committee meeting. mr ebbers could face a jail sentence of 85 years if convicted of all the charges he is facing. worldcom emerged from bankruptcy protection in 2004  and is now known as mci. last week  mci agreed to a buyout by verizon communications in a deal valued at $6.75bn.,business\n",
            "\n"
          ]
        }
      ],
      "source": [
        "with open(\"./sample_data/bbc_text.csv\", 'r') as csvfile:\n",
        "    print(f\"First line (header) looks like this:\\n\\n{csvfile.readline()}\")\n",
        "    print(f\"Each data point looks like this:\\n\\n{csvfile.readline()}\")"
      ]
    },
    {
      "cell_type": "markdown",
      "id": "bizarre-veteran",
      "metadata": {
        "id": "bizarre-veteran"
      },
      "source": [
        "As you can see, each data point is composed of the category of the news article followed by a comma and then the actual text of the article."
      ]
    },
    {
      "cell_type": "markdown",
      "id": "balanced-settle",
      "metadata": {
        "id": "balanced-settle"
      },
      "source": [
        "## Defining useful global variables\n",
        "\n",
        "Next, you will define some global variables that will be used in the unit tests after your solutions. **Please do not use these in the function body of the graded functions.**\n",
        "\n",
        "- `NUM_WORDS`: The maximum number of words to keep, based on word frequency. Defaults to 1000.\n",
        "\n",
        "\n",
        "- `EMBEDDING_DIM`: Dimension of the dense embedding, will be used in the embedding layer of the model. Defaults to 16.\n",
        "\n",
        "\n",
        "- `MAXLEN`: Maximum length of all sequences. Defaults to 120.\n",
        "\n",
        "\n",
        "- `PADDING`: Padding strategy (pad either before or after each sequence.). Defaults to 'post'.\n",
        "\n",
        "\n",
        "- `OOV_TOKEN`: Token to replace out-of-vocabulary words during text_to_sequence calls. Defaults to \"\\<OOV>\".\n",
        "\n",
        "    \n",
        "- `TRAINING_SPLIT`: Proportion of data used for training. Defaults to 0.8\n",
        "\n",
        "**For now leave them unchanged but after submitting your assignment for grading you are encouraged to come back here and play with these parameters to see the impact they have in the classification process**"
      ]
    },
    {
      "cell_type": "code",
      "execution_count": 16,
      "id": "quantitative-mauritius",
      "metadata": {
        "id": "quantitative-mauritius",
        "tags": [
          "graded"
        ]
      },
      "outputs": [],
      "source": [
        "NUM_WORDS = 1000\n",
        "EMBEDDING_DIM = 16\n",
        "MAXLEN = 120\n",
        "PADDING = 'post'\n",
        "OOV_TOKEN = \"<OOV>\"\n",
        "TRAINING_SPLIT = .8"
      ]
    },
    {
      "cell_type": "markdown",
      "id": "synthetic-beijing",
      "metadata": {
        "id": "synthetic-beijing"
      },
      "source": [
        "## Loading and pre-processing the data\n",
        "\n",
        "Now you should code the functions to remove stopwords from text and to load the data from a csv file.\n",
        "\n",
        "Since you already coded these functions for the previous week, these are provided for you."
      ]
    },
    {
      "cell_type": "code",
      "execution_count": 11,
      "id": "flying-lincoln",
      "metadata": {
        "id": "flying-lincoln",
        "tags": [
          "graded"
        ]
      },
      "outputs": [],
      "source": [
        "def remove_stopwords(sentence):\n",
        "    \"\"\"\n",
        "    Removes a list of stopwords\n",
        "\n",
        "    Args:\n",
        "        sentence (string): sentence to remove the stopwords from\n",
        "\n",
        "    Returns:\n",
        "        sentence (string): lowercase sentence without the stopwords\n",
        "    \"\"\"\n",
        "    # List of stopwords\n",
        "    stopwords = [\"a\", \"about\", \"above\", \"after\", \"again\", \"against\", \"all\", \"am\", \"an\", \"and\", \"any\", \"are\", \"as\", \"at\", \"be\", \"because\", \"been\", \"before\", \"being\", \"below\", \"between\", \"both\", \"but\", \"by\", \"could\", \"did\", \"do\", \"does\", \"doing\", \"down\", \"during\", \"each\", \"few\", \"for\", \"from\", \"further\", \"had\", \"has\", \"have\", \"having\", \"he\", \"he'd\", \"he'll\", \"he's\", \"her\", \"here\", \"here's\", \"hers\", \"herself\", \"him\", \"himself\", \"his\", \"how\", \"how's\", \"i\", \"i'd\", \"i'll\", \"i'm\", \"i've\", \"if\", \"in\", \"into\", \"is\", \"it\", \"it's\", \"its\", \"itself\", \"let's\", \"me\", \"more\", \"most\", \"my\", \"myself\", \"nor\", \"of\", \"on\", \"once\", \"only\", \"or\", \"other\", \"ought\", \"our\", \"ours\", \"ourselves\", \"out\", \"over\", \"own\", \"same\", \"she\", \"she'd\", \"she'll\", \"she's\", \"should\", \"so\", \"some\", \"such\", \"than\", \"that\", \"that's\", \"the\", \"their\", \"theirs\", \"them\", \"themselves\", \"then\", \"there\", \"there's\", \"these\", \"they\", \"they'd\", \"they'll\", \"they're\", \"they've\", \"this\", \"those\", \"through\", \"to\", \"too\", \"under\", \"until\", \"up\", \"very\", \"was\", \"we\", \"we'd\", \"we'll\", \"we're\", \"we've\", \"were\", \"what\", \"what's\", \"when\", \"when's\", \"where\", \"where's\", \"which\", \"while\", \"who\", \"who's\", \"whom\", \"why\", \"why's\", \"with\", \"would\", \"you\", \"you'd\", \"you'll\", \"you're\", \"you've\", \"your\", \"yours\", \"yourself\", \"yourselves\" ]\n",
        "\n",
        "    # Sentence converted to lowercase-only\n",
        "    sentence = sentence.lower()\n",
        "\n",
        "    words = sentence.split()\n",
        "    no_words = [w for w in words if w not in stopwords]\n",
        "    sentence = \" \".join(no_words)\n",
        "\n",
        "    return sentence\n",
        "\n",
        "\n",
        "def parse_data_from_file(filename):\n",
        "    \"\"\"\n",
        "    Extracts sentences and labels from a CSV file\n",
        "\n",
        "    Args:\n",
        "        filename (string): path to the CSV file\n",
        "\n",
        "    Returns:\n",
        "        sentences, labels (list of string, list of string): tuple containing lists of sentences and labels\n",
        "    \"\"\"\n",
        "    sentences = []\n",
        "    labels = []\n",
        "    with open(filename, 'r') as csvfile:\n",
        "        reader = csv.reader(csvfile, delimiter=',')\n",
        "        next(reader)\n",
        "        for row in reader:\n",
        "            labels.append(row[0])\n",
        "            sentence = row[1]\n",
        "            sentence = remove_stopwords(sentence)\n",
        "            sentences.append(sentence)\n",
        "\n",
        "    return sentences, labels"
      ]
    },
    {
      "cell_type": "code",
      "execution_count": 13,
      "id": "sublime-maine",
      "metadata": {
        "colab": {
          "base_uri": "https://localhost:8080/"
        },
        "id": "sublime-maine",
        "outputId": "98fa66c4-6c74-412f-9a26-177cad4b1d94",
        "tags": [
          "graded"
        ]
      },
      "outputs": [
        {
          "name": "stdout",
          "output_type": "stream",
          "text": [
            "There are 463 sentences in the dataset.\n",
            "\n",
            "First sentence has 203 words (after removing stopwords).\n",
            "\n",
            "There are 463 labels in the dataset.\n",
            "\n",
            "The first 5 labels are ['1833', '154', '1101', '1976', '917']\n"
          ]
        }
      ],
      "source": [
        "# Test the functions\n",
        "sentences, labels = parse_data_from_file(\"./sample_data/bbc_text.csv\")\n",
        "\n",
        "print(f\"There are {len(sentences)} sentences in the dataset.\\n\")\n",
        "print(f\"First sentence has {len(sentences[0].split())} words (after removing stopwords).\\n\")\n",
        "print(f\"There are {len(labels)} labels in the dataset.\\n\")\n",
        "print(f\"The first 5 labels are {labels[:5]}\")"
      ]
    },
    {
      "cell_type": "markdown",
      "id": "consecutive-battle",
      "metadata": {
        "id": "consecutive-battle"
      },
      "source": [
        "***Expected Output:***\n",
        "\n",
        "```\n",
        "There are 2225 sentences in the dataset.\n",
        "\n",
        "First sentence has 436 words (after removing stopwords).\n",
        "\n",
        "There are 2225 labels in the dataset.\n",
        "\n",
        "The first 5 labels are ['tech', 'business', 'sport', 'sport', 'entertainment']\n",
        "```"
      ]
    },
    {
      "cell_type": "markdown",
      "id": "polished-eagle",
      "metadata": {
        "id": "polished-eagle"
      },
      "source": [
        "## Training - Validation Split\n",
        "\n",
        "Now you will code the `train_val_split()` function. Given the training split size, this function will split the full lists of sentences and labels into training and validation sentences and labels.\n",
        "\n",
        "**IMPORTANT NOTE: For all graded functions in this assignment, please do not use the global variables (e.g. `TRAINING_SPLIT`) in your solution. Instead, you should use the function parameters defined in the function header (e.g. `training_split`).**"
      ]
    },
    {
      "cell_type": "code",
      "execution_count": 14,
      "id": "small-violence",
      "metadata": {
        "id": "small-violence",
        "tags": [
          "graded"
        ]
      },
      "outputs": [],
      "source": [
        "# GRADED FUNCTIONS: train_val_split\n",
        "def train_val_split(sentences, labels, training_split):\n",
        "    \"\"\"\n",
        "    Splits the dataset into training and validation sets\n",
        "\n",
        "    Args:\n",
        "        sentences (list of string): lower-cased sentences without stopwords\n",
        "        labels (list of string): list of labels\n",
        "        training split (float): proportion of the dataset to convert to include in the train set\n",
        "\n",
        "    Returns:\n",
        "        train_sentences, validation_sentences, train_labels, validation_labels - lists containing the data splits\n",
        "    \"\"\"\n",
        "\n",
        "    ### START CODE HERE\n",
        "\n",
        "    # Compute the number of sentences that will be used for training (should be an integer)\n",
        "    train_size = round(len(sentences) * training_split)\n",
        "\n",
        "    # Split the sentences and labels into train/validation splits\n",
        "    train_sentences = sentences[:train_size]\n",
        "    train_labels = labels[:train_size]\n",
        "\n",
        "    validation_sentences = sentences[train_size:]\n",
        "    validation_labels = labels[train_size:]\n",
        "\n",
        "    ### END CODE HERE\n",
        "\n",
        "    return train_sentences, validation_sentences, train_labels, validation_labels"
      ]
    },
    {
      "cell_type": "code",
      "execution_count": 17,
      "id": "circular-venue",
      "metadata": {
        "colab": {
          "base_uri": "https://localhost:8080/"
        },
        "id": "circular-venue",
        "outputId": "0be6f0a4-bd64-4e29-cfd8-3ea5128d9910",
        "tags": [
          "graded"
        ]
      },
      "outputs": [
        {
          "name": "stdout",
          "output_type": "stream",
          "text": [
            "There are 370 sentences for training.\n",
            "\n",
            "There are 370 labels for training.\n",
            "\n",
            "There are 93 sentences for validation.\n",
            "\n",
            "There are 93 labels for validation.\n"
          ]
        }
      ],
      "source": [
        "# Test your function\n",
        "train_sentences, val_sentences, train_labels, val_labels = train_val_split(sentences, labels, TRAINING_SPLIT)\n",
        "\n",
        "print(f\"There are {len(train_sentences)} sentences for training.\\n\")\n",
        "print(f\"There are {len(train_labels)} labels for training.\\n\")\n",
        "print(f\"There are {len(val_sentences)} sentences for validation.\\n\")\n",
        "print(f\"There are {len(val_labels)} labels for validation.\")"
      ]
    },
    {
      "cell_type": "markdown",
      "id": "recovered-graph",
      "metadata": {
        "id": "recovered-graph"
      },
      "source": [
        "***Expected Output:***\n",
        "\n",
        "```\n",
        "There are 1780 sentences for training.\n",
        "\n",
        "There are 1780 labels for training.\n",
        "\n",
        "There are 445 sentences for validation.\n",
        "\n",
        "There are 445 labels for validation.\n",
        "```"
      ]
    },
    {
      "cell_type": "markdown",
      "id": "crude-mozambique",
      "metadata": {
        "id": "crude-mozambique"
      },
      "source": [
        "## Tokenization - Sequences and padding\n",
        "\n",
        "Now that you have sets for training and validation it is time for you to begin the tokenization process.\n",
        "\n",
        "Begin by completing the `fit_tokenizer` function below. This function should return a [Tokenizer](https://www.tensorflow.org/api_docs/python/tf/keras/preprocessing/text/Tokenizer) that has been fitted to the training sentences."
      ]
    },
    {
      "cell_type": "code",
      "execution_count": 19,
      "id": "recreational-prince",
      "metadata": {
        "id": "recreational-prince",
        "lines_to_next_cell": 2,
        "tags": [
          "graded"
        ]
      },
      "outputs": [],
      "source": [
        "# GRADED FUNCTION: fit_tokenizer\n",
        "def fit_tokenizer(train_sentences, num_words, oov_token):\n",
        "    \"\"\"\n",
        "    Instantiates the Tokenizer class on the training sentences\n",
        "\n",
        "    Args:\n",
        "        train_sentences (list of string): lower-cased sentences without stopwords to be used for training\n",
        "        num_words (int) - number of words to keep when tokenizing\n",
        "        oov_token (string) - symbol for the out-of-vocabulary token\n",
        "\n",
        "    Returns:\n",
        "        tokenizer (object): an instance of the Tokenizer class containing the word-index dictionary\n",
        "    \"\"\"\n",
        "\n",
        "    ### START CODE HERE\n",
        "\n",
        "    # Instantiate the Tokenizer class, passing in the correct values for num_words and oov_token\n",
        "    tokenizer = Tokenizer(train_sentences, num_words = num_words, oov_token=oov_token)\n",
        "\n",
        "    # Fit the tokenizer to the training sentences\n",
        "    tokenizer.fit_on_texts(sentences)\n",
        "\n",
        "    ### END CODE HERE\n",
        "\n",
        "    return tokenizer"
      ]
    },
    {
      "cell_type": "code",
      "execution_count": 20,
      "id": "great-trading",
      "metadata": {
        "colab": {
          "base_uri": "https://localhost:8080/"
        },
        "id": "great-trading",
        "outputId": "ced4408f-bdeb-4fed-9af7-c441055e7fff",
        "tags": [
          "graded"
        ]
      },
      "outputs": [
        {
          "name": "stdout",
          "output_type": "stream",
          "text": [
            "Vocabulary contains 14888 words\n",
            "\n",
            "<OOV> token included in vocabulary\n"
          ]
        }
      ],
      "source": [
        "# Test your function\n",
        "tokenizer = fit_tokenizer(train_sentences, NUM_WORDS, OOV_TOKEN)\n",
        "word_index = tokenizer.word_index\n",
        "\n",
        "print(f\"Vocabulary contains {len(word_index)} words\\n\")\n",
        "print(\"<OOV> token included in vocabulary\" if \"<OOV>\" in word_index else \"<OOV> token NOT included in vocabulary\")"
      ]
    },
    {
      "cell_type": "markdown",
      "id": "pressing-recipe",
      "metadata": {
        "id": "pressing-recipe"
      },
      "source": [
        "***Expected Output:***\n",
        "\n",
        "```\n",
        "Vocabulary contains 27285 words\n",
        "\n",
        "<OOV> token included in vocabulary\n",
        "```"
      ]
    },
    {
      "cell_type": "markdown",
      "id": "sweet-sentence",
      "metadata": {
        "id": "sweet-sentence"
      },
      "source": [
        "Now that the tokenizer has been fitted to the training data, you need a function that will convert each text data point into its padded sequence representation, for this complete the `seq_and_pad` function below:"
      ]
    },
    {
      "cell_type": "code",
      "execution_count": 25,
      "id": "fourth-knight",
      "metadata": {
        "id": "fourth-knight",
        "tags": [
          "graded"
        ]
      },
      "outputs": [],
      "source": [
        "# GRADED FUNCTION: seq_and_pad\n",
        "def seq_and_pad(sentences, tokenizer, padding, maxlen):\n",
        "    \"\"\"\n",
        "    Generates an array of token sequences and pads them to the same length\n",
        "\n",
        "    Args:\n",
        "        sentences (list of string): list of sentences to tokenize and pad\n",
        "        tokenizer (object): Tokenizer instance containing the word-index dictionary\n",
        "        padding (string): type of padding to use\n",
        "        maxlen (int): maximum length of the token sequence\n",
        "\n",
        "    Returns:\n",
        "        padded_sequences (array of int): tokenized sentences padded to the same length\n",
        "    \"\"\"\n",
        "    ### START CODE HERE\n",
        "\n",
        "    # Convert sentences to sequences\n",
        "    sequences = tokenizer.texts_to_sequences(sentences)\n",
        "\n",
        "    # Pad the sequences using the correct padding and maxlen\n",
        "    padded_sequences = pad_sequences(sequences, maxlen=maxlen, padding=padding)\n",
        "\n",
        "    ### END CODE HERE\n",
        "\n",
        "    return padded_sequences"
      ]
    },
    {
      "cell_type": "code",
      "execution_count": 26,
      "id": "separate-onion",
      "metadata": {
        "colab": {
          "base_uri": "https://localhost:8080/"
        },
        "id": "separate-onion",
        "outputId": "560a55eb-b4fb-4386-e5fa-a6f28b7d8524",
        "tags": [
          "graded"
        ]
      },
      "outputs": [
        {
          "name": "stdout",
          "output_type": "stream",
          "text": [
            "Padded training sequences have shape: (370, 120)\n",
            "\n",
            "Padded validation sequences have shape: (93, 120)\n"
          ]
        }
      ],
      "source": [
        "# Test your function\n",
        "train_padded_seq = seq_and_pad(train_sentences, tokenizer, PADDING, MAXLEN)\n",
        "val_padded_seq = seq_and_pad(val_sentences, tokenizer, PADDING, MAXLEN)\n",
        "\n",
        "print(f\"Padded training sequences have shape: {train_padded_seq.shape}\\n\")\n",
        "print(f\"Padded validation sequences have shape: {val_padded_seq.shape}\")"
      ]
    },
    {
      "cell_type": "markdown",
      "id": "sufficient-locator",
      "metadata": {
        "id": "sufficient-locator"
      },
      "source": [
        "***Expected Output:***\n",
        "\n",
        "```\n",
        "Padded training sequences have shape: (1780, 120)\n",
        "\n",
        "Padded validation sequences have shape: (445, 120)\n",
        "```"
      ]
    },
    {
      "cell_type": "markdown",
      "id": "familiar-reform",
      "metadata": {
        "id": "familiar-reform"
      },
      "source": [
        "Finally you need to tokenize the labels. For this complete the `tokenize_labels` function below.\n",
        "\n",
        "A couple of things to note:\n",
        "- You should fit the tokenizer to all the labels to avoid the case of a particular label not being present in the validation set. Since you are dealing with labels there should never be an OOV label.\n",
        "\n",
        "\n",
        "- In the previous function you used the `pad_sequences` function which returns numpy arrays. Here you will not be using it since you don't need to pad the labels so you need to make the conversion to numpy arrays yourself.\n",
        "\n",
        "\n",
        "- The argument `split_labels` refers to the labels of a particular split (train or validation). This is because the function should work independently of the split being used.\n",
        "\n",
        "\n",
        "- Using Keras' Tokenizer yields values that start at 1 rather than at 0. This will present a problem when training since Keras usually expects the labels to start at 0. To work around this issue you could use an extra neuron in the last layer of your model. However this approach is rather hacky and not very clear. Instead you will substract 1 from every value of the labels that the function returns. Remember that when using numpy arrays you can simply do something like `np.array - 1` to accomplish this since numpy allows for vectorized operations."
      ]
    },
    {
      "cell_type": "code",
      "execution_count": 27,
      "id": "active-objective",
      "metadata": {
        "id": "active-objective",
        "lines_to_next_cell": 2,
        "tags": [
          "graded"
        ]
      },
      "outputs": [],
      "source": [
        "# GRADED FUNCTION: tokenize_labels\n",
        "def tokenize_labels(all_labels, split_labels):\n",
        "    \"\"\"\n",
        "    Tokenizes the labels\n",
        "\n",
        "    Args:\n",
        "        all_labels (list of string): labels to generate the word-index from\n",
        "        split_labels (list of string): labels to tokenize\n",
        "\n",
        "    Returns:\n",
        "        label_seq_np (array of int): tokenized labels\n",
        "    \"\"\"\n",
        "    ### START CODE HERE\n",
        "\n",
        "    # Instantiate the Tokenizer (no additional arguments needed)\n",
        "    label_tokenizer = Tokenizer()\n",
        "\n",
        "    # Fit the tokenizer on all the labels\n",
        "    label_tokenizer.fit_on_texts(labels)\n",
        "\n",
        "    # Convert labels to sequences\n",
        "    label_seq = label_tokenizer.texts_to_sequences(all_labels)\n",
        "\n",
        "    # Convert sequences to a numpy array. Don't forget to substact 1 from every entry in the array!\n",
        "    label_seq_np = np.array(label_seq)\n",
        "\n",
        "    ### END CODE HERE\n",
        "\n",
        "    return label_seq_np"
      ]
    },
    {
      "cell_type": "code",
      "execution_count": 28,
      "id": "numerical-certificate",
      "metadata": {
        "colab": {
          "base_uri": "https://localhost:8080/"
        },
        "id": "numerical-certificate",
        "outputId": "5fe783db-f522-4c09-ddf9-ff30337fb45e",
        "tags": [
          "graded"
        ]
      },
      "outputs": [
        {
          "name": "stdout",
          "output_type": "stream",
          "text": [
            "First 5 labels of the training set should look like this:\n",
            "[[1]\n",
            " [2]\n",
            " [3]\n",
            " [4]\n",
            " [5]]\n",
            "\n",
            "First 5 labels of the validation set should look like this:\n",
            "[[1]\n",
            " [2]\n",
            " [3]\n",
            " [4]\n",
            " [5]]\n",
            "\n",
            "Tokenized labels of the training set have shape: (463, 1)\n",
            "\n",
            "Tokenized labels of the validation set have shape: (463, 1)\n",
            "\n"
          ]
        }
      ],
      "source": [
        "# Test your function\n",
        "train_label_seq = tokenize_labels(labels, train_labels)\n",
        "val_label_seq = tokenize_labels(labels, val_labels)\n",
        "\n",
        "print(f\"First 5 labels of the training set should look like this:\\n{train_label_seq[:5]}\\n\")\n",
        "print(f\"First 5 labels of the validation set should look like this:\\n{val_label_seq[:5]}\\n\")\n",
        "print(f\"Tokenized labels of the training set have shape: {train_label_seq.shape}\\n\")\n",
        "print(f\"Tokenized labels of the validation set have shape: {val_label_seq.shape}\\n\")"
      ]
    },
    {
      "cell_type": "markdown",
      "id": "lasting-rescue",
      "metadata": {
        "id": "lasting-rescue"
      },
      "source": [
        "***Expected Output:***\n",
        "\n",
        "```\n",
        "First 5 labels of the training set should look like this:\n",
        "[[3]\n",
        " [1]\n",
        " [0]\n",
        " [0]\n",
        " [4]]\n",
        "\n",
        "First 5 labels of the validation set should look like this:\n",
        "[[4]\n",
        " [3]\n",
        " [2]\n",
        " [0]\n",
        " [0]]\n",
        "\n",
        "Tokenized labels of the training set have shape: (1780, 1)\n",
        "\n",
        "Tokenized labels of the validation set have shape: (445, 1)\n",
        "```"
      ]
    },
    {
      "cell_type": "markdown",
      "id": "devoted-helen",
      "metadata": {
        "id": "devoted-helen"
      },
      "source": [
        "## Selecting the model for text classification\n",
        "\n",
        "Now that the data is ready to be fed a Neural Network it is time for you to define the model that will classify each text as being part of a certain category.\n",
        "\n",
        "For this complete the `create_model` below.\n",
        "\n",
        "A couple of things to keep in mind:\n",
        "\n",
        "- Notice that this function has three parameters, all of which are meant to be passed to an [Embedding](https://www.tensorflow.org/api_docs/python/tf/keras/layers/Embedding) layer, which is what you will probably use as a first layer for your model.\n",
        "\n",
        "\n",
        "- The last layer should be a Dense layer with 5 units (since there are 5 categories) with a softmax activation.\n",
        "\n",
        "\n",
        "- You should also compile your model using an appropiate loss function and optimizer.\n",
        "\n",
        "\n",
        "- You can use any architecture you want but keep in mind that this problem doesn't need many layers to be solved successfully. You don't need any layers beside Embedding, [GlobalAveragePooling1D](https://www.tensorflow.org/api_docs/python/tf/keras/layers/GlobalAveragePooling1D) and Dense layers but feel free to try out different architectures.\n",
        "\n",
        "\n",
        "- **To pass this graded function your model should reach at least a 95% training accuracy and a 90% validation accuracy in under 30 epochs.**"
      ]
    },
    {
      "cell_type": "code",
      "execution_count": 30,
      "id": "little-bahrain",
      "metadata": {
        "id": "little-bahrain",
        "tags": [
          "graded"
        ]
      },
      "outputs": [],
      "source": [
        "# GRADED FUNCTION: create_model\n",
        "def create_model(num_words, embedding_dim, maxlen):\n",
        "    \"\"\"\n",
        "    Creates a text classifier model\n",
        "\n",
        "    Args:\n",
        "        num_words (int): size of the vocabulary for the Embedding layer input\n",
        "        embedding_dim (int): dimensionality of the Embedding layer output\n",
        "        maxlen (int): length of the input sequences\n",
        "\n",
        "    Returns:\n",
        "        model (tf.keras Model): the text classifier model\n",
        "    \"\"\"\n",
        "\n",
        "    tf.random.set_seed(123)\n",
        "\n",
        "    ### START CODE HERE\n",
        "\n",
        "    model = tf.keras.Sequential([\n",
        "    tf.keras.layers.Embedding(num_words, embedding_dim, input_length=maxlen),\n",
        "    tf.keras.layers.GlobalAveragePooling1D(),\n",
        "    tf.keras.layers.Dense(24, activation='relu'),\n",
        "    tf.keras.layers.Dense(1, activation='sigmoid')\n",
        "])\n",
        "    model.compile(loss='binary_crossentropy',optimizer='adam',\n",
        "                  metrics=['accuracy'])\n",
        "\n",
        "    ### END CODE HERE\n",
        "\n",
        "    return model\n"
      ]
    },
    {
      "cell_type": "code",
      "execution_count": 31,
      "id": "resident-productivity",
      "metadata": {
        "colab": {
          "base_uri": "https://localhost:8080/",
          "height": 407
        },
        "id": "resident-productivity",
        "outputId": "4715198c-52a0-4c1f-9d56-e243237d11ec",
        "tags": []
      },
      "outputs": [
        {
          "ename": "ValueError",
          "evalue": "ignored",
          "output_type": "error",
          "traceback": [
            "\u001b[0;31m---------------------------------------------------------------------------\u001b[0m",
            "\u001b[0;31mValueError\u001b[0m                                Traceback (most recent call last)",
            "\u001b[0;32m<ipython-input-31-873a88cb4a24>\u001b[0m in \u001b[0;36m<cell line: 3>\u001b[0;34m()\u001b[0m\n\u001b[1;32m      1\u001b[0m \u001b[0mmodel\u001b[0m \u001b[0;34m=\u001b[0m \u001b[0mcreate_model\u001b[0m\u001b[0;34m(\u001b[0m\u001b[0mNUM_WORDS\u001b[0m\u001b[0;34m,\u001b[0m \u001b[0mEMBEDDING_DIM\u001b[0m\u001b[0;34m,\u001b[0m \u001b[0mMAXLEN\u001b[0m\u001b[0;34m)\u001b[0m\u001b[0;34m\u001b[0m\u001b[0;34m\u001b[0m\u001b[0m\n\u001b[1;32m      2\u001b[0m \u001b[0;34m\u001b[0m\u001b[0m\n\u001b[0;32m----> 3\u001b[0;31m \u001b[0mhistory\u001b[0m \u001b[0;34m=\u001b[0m \u001b[0mmodel\u001b[0m\u001b[0;34m.\u001b[0m\u001b[0mfit\u001b[0m\u001b[0;34m(\u001b[0m\u001b[0mtrain_padded_seq\u001b[0m\u001b[0;34m,\u001b[0m \u001b[0mtrain_label_seq\u001b[0m\u001b[0;34m,\u001b[0m \u001b[0mepochs\u001b[0m\u001b[0;34m=\u001b[0m\u001b[0;36m30\u001b[0m\u001b[0;34m,\u001b[0m \u001b[0mvalidation_data\u001b[0m\u001b[0;34m=\u001b[0m\u001b[0;34m(\u001b[0m\u001b[0mval_padded_seq\u001b[0m\u001b[0;34m,\u001b[0m \u001b[0mval_label_seq\u001b[0m\u001b[0;34m)\u001b[0m\u001b[0;34m)\u001b[0m\u001b[0;34m\u001b[0m\u001b[0;34m\u001b[0m\u001b[0m\n\u001b[0m",
            "\u001b[0;32m/usr/local/lib/python3.10/dist-packages/keras/src/utils/traceback_utils.py\u001b[0m in \u001b[0;36merror_handler\u001b[0;34m(*args, **kwargs)\u001b[0m\n\u001b[1;32m     68\u001b[0m             \u001b[0;31m# To get the full stack trace, call:\u001b[0m\u001b[0;34m\u001b[0m\u001b[0;34m\u001b[0m\u001b[0m\n\u001b[1;32m     69\u001b[0m             \u001b[0;31m# `tf.debugging.disable_traceback_filtering()`\u001b[0m\u001b[0;34m\u001b[0m\u001b[0;34m\u001b[0m\u001b[0m\n\u001b[0;32m---> 70\u001b[0;31m             \u001b[0;32mraise\u001b[0m \u001b[0me\u001b[0m\u001b[0;34m.\u001b[0m\u001b[0mwith_traceback\u001b[0m\u001b[0;34m(\u001b[0m\u001b[0mfiltered_tb\u001b[0m\u001b[0;34m)\u001b[0m \u001b[0;32mfrom\u001b[0m \u001b[0;32mNone\u001b[0m\u001b[0;34m\u001b[0m\u001b[0;34m\u001b[0m\u001b[0m\n\u001b[0m\u001b[1;32m     71\u001b[0m         \u001b[0;32mfinally\u001b[0m\u001b[0;34m:\u001b[0m\u001b[0;34m\u001b[0m\u001b[0;34m\u001b[0m\u001b[0m\n\u001b[1;32m     72\u001b[0m             \u001b[0;32mdel\u001b[0m \u001b[0mfiltered_tb\u001b[0m\u001b[0;34m\u001b[0m\u001b[0;34m\u001b[0m\u001b[0m\n",
            "\u001b[0;32m/usr/local/lib/python3.10/dist-packages/keras/src/engine/data_adapter.py\u001b[0m in \u001b[0;36m_check_data_cardinality\u001b[0;34m(data)\u001b[0m\n\u001b[1;32m   1948\u001b[0m             )\n\u001b[1;32m   1949\u001b[0m         \u001b[0mmsg\u001b[0m \u001b[0;34m+=\u001b[0m \u001b[0;34m\"Make sure all arrays contain the same number of samples.\"\u001b[0m\u001b[0;34m\u001b[0m\u001b[0;34m\u001b[0m\u001b[0m\n\u001b[0;32m-> 1950\u001b[0;31m         \u001b[0;32mraise\u001b[0m \u001b[0mValueError\u001b[0m\u001b[0;34m(\u001b[0m\u001b[0mmsg\u001b[0m\u001b[0;34m)\u001b[0m\u001b[0;34m\u001b[0m\u001b[0;34m\u001b[0m\u001b[0m\n\u001b[0m\u001b[1;32m   1951\u001b[0m \u001b[0;34m\u001b[0m\u001b[0m\n\u001b[1;32m   1952\u001b[0m \u001b[0;34m\u001b[0m\u001b[0m\n",
            "\u001b[0;31mValueError\u001b[0m: Data cardinality is ambiguous:\n  x sizes: 370\n  y sizes: 463\nMake sure all arrays contain the same number of samples."
          ]
        }
      ],
      "source": [
        "model = create_model(NUM_WORDS, EMBEDDING_DIM, MAXLEN)\n",
        "\n",
        "history = model.fit(train_padded_seq, train_label_seq, epochs=30, validation_data=(val_padded_seq, val_label_seq))"
      ]
    },
    {
      "cell_type": "markdown",
      "id": "three-pension",
      "metadata": {
        "id": "three-pension"
      },
      "source": [
        "Once training has finished you can run the following cell to check the training and validation accuracy achieved at the end of each epoch.\n",
        "\n",
        "**Remember that to pass this assignment your model should achieve a training accuracy of at least 95% and a validation accuracy of at least 90%. If your model didn't achieve these thresholds, try training again with a different model architecture.**"
      ]
    },
    {
      "cell_type": "code",
      "execution_count": null,
      "id": "rural-sheffield",
      "metadata": {
        "id": "rural-sheffield",
        "tags": []
      },
      "outputs": [],
      "source": [
        "def plot_graphs(history, metric):\n",
        "    plt.plot(history.history[metric])\n",
        "    plt.plot(history.history[f'val_{metric}'])\n",
        "    plt.xlabel(\"Epochs\")\n",
        "    plt.ylabel(metric)\n",
        "    plt.legend([metric, f'val_{metric}'])\n",
        "    plt.show()\n",
        "\n",
        "plot_graphs(history, \"accuracy\")\n",
        "plot_graphs(history, \"loss\")"
      ]
    },
    {
      "cell_type": "markdown",
      "id": "material-breast",
      "metadata": {
        "id": "material-breast"
      },
      "source": [
        "**If your model passes the previously mentioned thresholds be sure to save your notebook and submit for grading before jumping onto the next section.**"
      ]
    },
    {
      "cell_type": "markdown",
      "id": "primary-tennessee",
      "metadata": {
        "id": "primary-tennessee"
      },
      "source": [
        "## Optional Exercise - Visualizing 3D Vectors\n",
        "\n",
        "As you saw on the lecture you can visualize the vectors associated with each word in the training set in a 3D space.\n",
        "\n",
        "For this run the following cells and visit [Tensorflow's Embedding Projector](https://projector.tensorflow.org/)."
      ]
    },
    {
      "cell_type": "code",
      "execution_count": null,
      "id": "awful-geneva",
      "metadata": {
        "id": "awful-geneva",
        "tags": []
      },
      "outputs": [],
      "source": [
        "# Reverse word index\n",
        "reverse_word_index = dict([(value, key) for (key, value) in word_index.items()])\n",
        "\n",
        "# Save the embedding layer\n",
        "e = model.layers[0]\n",
        "\n",
        "# Save the weights of the embedding layer\n",
        "weights = e.get_weights()[0]\n",
        "print(f\"Weights of embedding layer have shape: {weights.shape}\")"
      ]
    },
    {
      "cell_type": "markdown",
      "id": "enhanced-updating",
      "metadata": {
        "id": "enhanced-updating"
      },
      "source": [
        "***Expected Output:***\n",
        "\n",
        "```\n",
        "Weights of embedding layer have shape: (1000, 16)\n",
        "\n",
        "The above is true if global variables are not modified.\n",
        "Notice that this shape will always be (NUM_WORDS, EMBEDDING_DIM).\n",
        "\n",
        "```"
      ]
    },
    {
      "cell_type": "markdown",
      "id": "dental-outside",
      "metadata": {
        "id": "dental-outside"
      },
      "source": [
        "Now run the following cell to generate the `vecs.tsv` and `meta.tsv` files that you will upload to the embedding projector."
      ]
    },
    {
      "cell_type": "code",
      "execution_count": null,
      "id": "dominican-usage",
      "metadata": {
        "id": "dominican-usage",
        "tags": []
      },
      "outputs": [],
      "source": [
        "# Generate files for embedding visualization\n",
        "out_v = io.open('vecs.tsv', 'w', encoding='utf-8')\n",
        "out_m = io.open('meta.tsv', 'w', encoding='utf-8')\n",
        "for word_num in range(1, NUM_WORDS):\n",
        "    word = reverse_word_index[word_num]\n",
        "    embeddings = weights[word_num]\n",
        "    out_m.write(word + \"\\n\")\n",
        "    out_v.write('\\t'.join([str(x) for x in embeddings]) + \"\\n\")\n",
        "out_v.close()\n",
        "out_m.close()"
      ]
    },
    {
      "cell_type": "markdown",
      "id": "further-sunset",
      "metadata": {
        "id": "further-sunset"
      },
      "source": [
        "Before downloading these files be sure to having already submitted your assignment.\n",
        "\n",
        "\n",
        "By running the previous cell, these files are placed within your filesystem. To download them, click on the `Jupyter` logo on the upper-left side of the screen. This will take you to the Jupyter filesystem and there you can download the files by selecting them and clicking on the `Download` button."
      ]
    },
    {
      "cell_type": "markdown",
      "id": "sudden-investigator",
      "metadata": {
        "id": "sudden-investigator"
      },
      "source": [
        "**Congratulations on finishing this week's assignment!**\n",
        "\n",
        "You have successfully implemented a neural network capable of classifying text and also learned about embeddings and tokenization along the way!\n",
        "\n",
        "**Keep it up!**"
      ]
    }
  ],
  "metadata": {
    "colab": {
      "provenance": []
    },
    "dlai_version": "1.2.0",
    "kernelspec": {
      "display_name": "Python 3",
      "language": "python",
      "name": "python3"
    },
    "language_info": {
      "codemirror_mode": {
        "name": "ipython",
        "version": 3
      },
      "file_extension": ".py",
      "mimetype": "text/x-python",
      "name": "python",
      "nbconvert_exporter": "python",
      "pygments_lexer": "ipython3",
      "version": "3.8.8"
    }
  },
  "nbformat": 4,
  "nbformat_minor": 5
}
